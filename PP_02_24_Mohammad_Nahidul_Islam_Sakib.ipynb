{
  "nbformat": 4,
  "nbformat_minor": 0,
  "metadata": {
    "colab": {
      "provenance": []
    },
    "kernelspec": {
      "name": "python3",
      "display_name": "Python 3"
    },
    "language_info": {
      "name": "python"
    }
  },
  "cells": [
    {
      "cell_type": "code",
      "execution_count": null,
      "metadata": {
        "collapsed": true,
        "id": "OvLhbKgl7t2y"
      },
      "outputs": [],
      "source": []
    },
    {
      "cell_type": "markdown",
      "source": [
        "#1.Movie Dataset"
      ],
      "metadata": {
        "id": "8AY7QsnZ10kf"
      }
    },
    {
      "cell_type": "code",
      "source": [
        "import pandas as pd\n",
        "import matplotlib.pyplot as plt\n",
        "\n",
        "try:\n",
        "    movies_df = pd.read_csv('movies.csv')\n",
        "    print(\"Dataset loaded successfully!\")\n",
        "except FileNotFoundError:\n",
        "    print(\"Error: 'movies.csv' file not found.\")\n",
        "\n",
        "def explore_dataset(movies_df):\n",
        "    print(movies_df.head().to_string(index=False))\n",
        "\n",
        "def filter_movies(movies_df, genre=None, release_year=None, director=None):\n",
        "\n",
        "    filtered_df = movies_df\n",
        "\n",
        "    if genre:\n",
        "        filtered_df = filtered_df[filtered_df['Genre'].str.contains(genre, case=False, na=False)]\n",
        "    if release_year:\n",
        "        filtered_df = filtered_df[filtered_df['Release Year'] == release_year]\n",
        "    if director:\n",
        "        filtered_df = filtered_df[filtered_df['Director'].str.contains(director, case=False, na=False)]\n",
        "\n",
        "    print(f\"Filtered Movies: {len(filtered_df)} found.\\n\")\n",
        "    return filtered_df\n",
        "\n"
      ],
      "metadata": {
        "colab": {
          "base_uri": "https://localhost:8080/"
        },
        "id": "tKPugVl_70sG",
        "outputId": "eb7b059d-fb87-4f1a-be9f-adcdd81ac923"
      },
      "execution_count": 43,
      "outputs": [
        {
          "output_type": "stream",
          "name": "stdout",
          "text": [
            "Dataset loaded successfully!\n"
          ]
        }
      ]
    },
    {
      "cell_type": "markdown",
      "source": [
        "#2. Movie Search\n"
      ],
      "metadata": {
        "id": "4jiEqsPUaatF"
      }
    },
    {
      "cell_type": "code",
      "source": [
        "def search_movies_by_title(movies_df, title_keyword):\n",
        "    search_result_df = movies_df[movies_df['Title'].str.contains(title_keyword, case=False, na=False)]\n",
        "    print(f\"Movies found with title containing '{title_keyword}': {len(search_result_df)} found.\\n\")\n",
        "    return search_result_df\n",
        "\n",
        "def search_movies_by_genre(movies_df, keyword):\n",
        "\n",
        "    search_result_df = movies_df[\n",
        "        movies_df['Genre'].str.contains(keyword, case=False, na=False)\n",
        "    ]\n",
        "    print(f\"Movies found with keyword '{keyword}' in genre or description: {len(search_result_df)} found.\\n\")\n",
        "    return search_result_df\n",
        "\n",
        "def suggest_movies_by_genre_or_director(movies_df, genre=None, director=None):\n",
        "\n",
        "    if genre:\n",
        "        suggestions_df = movies_df[movies_df['Genre'].str.contains(genre, case=False, na=False)]\n",
        "        print(f\"Movies suggested based on genre '{genre}': {len(suggestions_df)} found.\\n\")\n",
        "    elif director:\n",
        "        suggestions_df = movies_df[movies_df['Director'].str.contains(director, case=False, na=False)]\n",
        "        print(f\"Movies suggested based on director '{director}': {len(suggestions_df)} found.\\n\")\n",
        "    else:\n",
        "        print(\"No genre or director provided for suggestions.\")\n",
        "        return pd.DataFrame()\n",
        "\n",
        "    return suggestions_df\n"
      ],
      "metadata": {
        "id": "Dz8lsbMDAb_Z"
      },
      "execution_count": 72,
      "outputs": []
    },
    {
      "cell_type": "markdown",
      "source": [
        "#3. User Reviews and Ratings\n"
      ],
      "metadata": {
        "id": "ZJXhcOc4dT5K"
      }
    },
    {
      "cell_type": "code",
      "source": [
        "def rate_movie(movies_df, movie_id_value, user_rating):\n",
        "\n",
        "    if 'User Ratings' not in movies_df.columns:\n",
        "        movies_df['User Ratings'] = [[] for _ in range(len(movies_df))]\n",
        "    if 'Average Rating' not in movies_df.columns:\n",
        "        movies_df['Average Rating'] = [0.0 for _ in range(len(movies_df))]\n",
        "\n",
        "    movie_index = movies_df[movies_df['Movie ID'] == movie_id_value].index\n",
        "\n",
        "    if movie_index.empty:\n",
        "        print(f\"Movie ID {movie_id_value} not found!\")\n",
        "        return\n",
        "\n",
        "    current_ratings = movies_df.at[movie_index[0], 'User Ratings']\n",
        "    if not isinstance(current_ratings, list):\n",
        "        current_ratings = []\n",
        "\n",
        "    current_ratings.append(user_rating)\n",
        "    movies_df.at[movie_index[0], 'User Ratings'] = current_ratings\n",
        "\n",
        "    average_rating = sum(current_ratings) / len(current_ratings)\n",
        "    movies_df.at[movie_index[0], 'Average Rating'] = average_rating\n",
        "\n",
        "    print(f\"Added rating of {user_rating} to movie ID {movie_id_value}. New average rating: {average_rating:.2f}\")\n",
        "\n",
        "    movies_df.to_csv('movies.csv', index=False)\n",
        "\n",
        "def add_movie_review(movies_df, movie_id_value, user_review):\n",
        "\n",
        "    if 'Reviews' not in movies_df.columns:\n",
        "        movies_df['Reviews'] = [[] for _ in range(len(movies_df))]\n",
        "\n",
        "    movie_index = movies_df[movies_df['Movie ID'] == movie_id_value].index\n",
        "\n",
        "    if movie_index.empty:\n",
        "        print(f\"Movie ID {movie_id_value} not found!\")\n",
        "        return\n",
        "\n",
        "    current_reviews = movies_df.at[movie_index[0], 'Reviews']\n",
        "    if not isinstance(current_reviews, list):\n",
        "        current_reviews = []\n",
        "\n",
        "    current_reviews.append(user_review)\n",
        "    movies_df.at[movie_index[0], 'Reviews'] = current_reviews\n",
        "\n",
        "    print(f\"Added review for movie ID {movie_id_value}.\")\n",
        "\n",
        "    movies_df.to_csv('movies.csv', index=False)\n",
        "\n",
        "\n",
        "\n",
        "\n",
        "\n"
      ],
      "metadata": {
        "id": "3mHqnaV9ArZq"
      },
      "execution_count": 58,
      "outputs": []
    },
    {
      "cell_type": "markdown",
      "source": [
        "#4.1 Personalized Recommendations"
      ],
      "metadata": {
        "id": "bdbtTnMxdi95"
      }
    },
    {
      "cell_type": "code",
      "source": [
        "import pandas as pd\n",
        "\n",
        "def recommend_movies(movies_df, user_ratings, top_n=5):\n",
        "\n",
        "    if not isinstance(user_ratings, dict):\n",
        "        print(\"user_ratings must be a dictionary with movie indices as keys.\")\n",
        "        return pd.DataFrame()\n",
        "\n",
        "    genres_series = movies_df.loc[user_ratings.keys(), 'Genre']\n",
        "    genre_counts = genres_series.str.get_dummies(sep=', ').sum().sort_values(ascending=False)\n",
        "    top_genres = genre_counts.index[:3]\n",
        "    mask = movies_df['Genre'].apply(lambda g: any(genre in g for genre in top_genres))\n",
        "    recommendations = movies_df[mask]\n",
        "    recommendations = recommendations[~recommendations.index.isin(user_ratings.keys())]\n",
        "    recommendations = recommendations.sort_values(by='Rating', ascending=False).head(top_n)\n",
        "\n",
        "    return recommendations\n"
      ],
      "metadata": {
        "id": "UnXE0cZ3Jcfe"
      },
      "execution_count": 69,
      "outputs": []
    },
    {
      "cell_type": "markdown",
      "source": [
        "#4.2 Top 10 Lists"
      ],
      "metadata": {
        "id": "CwboAvBkdn35"
      }
    },
    {
      "cell_type": "code",
      "source": [
        "def top_10_movies(movies_df, by='Rating', specific_value=None):\n",
        "\n",
        "    if by not in ['Genre', 'Release Year', 'Rating']:\n",
        "        print(\"Invalid 'by' parameter specified.\")\n",
        "        return pd.DataFrame()\n",
        "\n",
        "    if by == 'Genre':\n",
        "        print(f\"Top 10 movies for genre: {specific_value}\")\n",
        "        genre_filtered = movies_df[movies_df['Genre'].str.contains(specific_value, case=False, na=False)]\n",
        "        top_genres = genre_filtered.sort_values(by='Rating', ascending=False).head(10)\n",
        "        return top_genres\n",
        "\n",
        "    elif by == 'Release Year':\n",
        "        print(f\"Top 10 movies for release year: {specific_value}\")\n",
        "        year_filtered = movies_df[movies_df['Release Year'] == specific_value]\n",
        "        top_years = year_filtered.sort_values(by='Rating', ascending=False).head(10)\n",
        "        return top_years\n",
        "\n",
        "    elif by == 'Rating':\n",
        "        print(\"Top 10 movies based on highest ratings across all entries:\")\n",
        "        top_rated = movies_df.sort_values(by='Rating', ascending=False).head(10)\n",
        "        return top_rated\n",
        "\n",
        "    return pd.DataFrame()\n",
        "\n",
        "\n",
        "\n"
      ],
      "metadata": {
        "id": "gGO3o-KuA2ol"
      },
      "execution_count": 65,
      "outputs": []
    },
    {
      "cell_type": "markdown",
      "source": [
        "#4.3 Visualizations"
      ],
      "metadata": {
        "id": "dskY6LjQd-fL"
      }
    },
    {
      "cell_type": "code",
      "source": [
        "import matplotlib.pyplot as plt\n",
        "\n",
        "def plot_rating_distribution(movies_df):\n",
        "    \"\"\"\n",
        "    Plot the distribution of movie ratings.\n",
        "\n",
        "    Parameters:\n",
        "    - movies_df (DataFrame): The DataFrame containing movie data.\n",
        "    \"\"\"\n",
        "    plt.figure(figsize=(10, 6))\n",
        "    plt.hist(movies_df['Rating'].dropna(), bins=20, color='skyblue', edgecolor='black')\n",
        "    plt.title('Distribution of Movie Ratings')\n",
        "    plt.xlabel('Rating')\n",
        "    plt.ylabel('Number of Movies')\n",
        "    plt.grid(axis='y', alpha=0.75)\n",
        "    plt.show()\n",
        "\n",
        "\n",
        "def plot_movie_counts_per_genre(movies_df):\n",
        "    \"\"\"\n",
        "    Plot the number of movies per genre.\n",
        "\n",
        "    Parameters:\n",
        "    - movies_df (DataFrame): The DataFrame containing movie data.\n",
        "    \"\"\"\n",
        "    genre_series = movies_df['Genre'].dropna().str.split(', ').explode()\n",
        "    genre_counts = genre_series.value_counts().sort_values()\n",
        "\n",
        "    plt.figure(figsize=(12, 8))\n",
        "    genre_counts.plot(kind='barh', color='seagreen')\n",
        "    plt.title('Number of Movies per Genre')\n",
        "    plt.xlabel('Number of Movies')\n",
        "    plt.ylabel('Genre')\n",
        "    plt.grid(axis='x', alpha=0.75)\n",
        "    plt.show()\n",
        "\n",
        "\n",
        "\n"
      ],
      "metadata": {
        "id": "WqvUnh4HBZC2"
      },
      "execution_count": 76,
      "outputs": []
    },
    {
      "cell_type": "markdown",
      "source": [
        "#4.4 Sentiment Analysis"
      ],
      "metadata": {
        "id": "Iao4vyV0gAOx"
      }
    },
    {
      "cell_type": "code",
      "source": [
        "def analyze_sentiment(reviews, positive_keywords=None, negative_keywords=None):\n",
        "    if positive_keywords is None:\n",
        "        positive_keywords = ['good', 'great', 'fantastic', 'excellent', 'amazing', 'wonderful']\n",
        "    if negative_keywords is None:\n",
        "        negative_keywords = ['bad', 'poor', 'terrible', 'awful', 'disappointing', 'horrible']\n",
        "\n",
        "    sentiments = []\n",
        "    for review in reviews:\n",
        "        review_lower = review.lower()\n",
        "        pos_match = any(key in review_lower for key in positive_keywords)\n",
        "        neg_match = any(key in review_lower for key in negative_keywords)\n",
        "\n",
        "        if pos_match and not neg_match:\n",
        "            sentiments.append('Positive')\n",
        "        elif neg_match and not pos_match:\n",
        "            sentiments.append('Negative')\n",
        "        elif pos_match and neg_match:\n",
        "            sentiments.append('Mixed')\n",
        "        else:\n",
        "            sentiments.append('Neutral')\n",
        "\n",
        "    return sentiments"
      ],
      "metadata": {
        "id": "hqYzmXJVgCcL"
      },
      "execution_count": 86,
      "outputs": []
    },
    {
      "cell_type": "markdown",
      "source": [
        "#5. User Interface"
      ],
      "metadata": {
        "id": "m1Mw3tsxhj16"
      }
    },
    {
      "cell_type": "code",
      "source": [
        "def main_menu(movies_df):\n",
        "    while True:\n",
        "        print(\"\\n--- Movie Recommendation System ---\")\n",
        "        print(\"1. Explore the Dataset\")\n",
        "        print(\"2. Filter Movies\")\n",
        "        print(\"3. Search Movies\")\n",
        "        print(\"4. Rate a Movie\")\n",
        "        print(\"5. Add a Review\")\n",
        "        print(\"6. Get Recommendations\")\n",
        "        print(\"7. Top 10 Movies\")\n",
        "        print(\"8. Visualize Rating Distribution\")\n",
        "        print(\"9. Visualize Movie Counts per Genre\")\n",
        "        print(\"10. Analyze Sentiment of Reviews\")\n",
        "        print(\"11. Suggest Movies by Genre or Director\")\n",
        "        print(\"12. Exit\")\n",
        "\n",
        "        choice = input(\"Enter your choice: \")\n",
        "\n",
        "        if choice == '1':\n",
        "            explore_dataset(movies_df)\n",
        "        elif choice == '2':\n",
        "            genre = input(\"Enter genre to filter(leave blank if not needed): \")\n",
        "            release_year = input(\"Enter release year to filter (leave blank if not needed): \")\n",
        "            director = input(\"Enter director to filter (leave blank if not needed): \")\n",
        "            filtered = filter_movies(movies_df,\n",
        "                                     genre=genre or None,\n",
        "                                     release_year=int(release_year) if release_year else None,\n",
        "                                     director=director or None)\n",
        "            print(filtered.to_string(index=False))\n",
        "        elif choice == '3':\n",
        "            search_type = input(\"Search by Title (1) or Keyword in Genre (2): \")\n",
        "            if search_type == '1':\n",
        "                title_keyword = input(\"Enter the title keyword: \")\n",
        "                found_movies = search_movies_by_title(movies_df, title_keyword)\n",
        "                print(found_movies.to_string(index=False))\n",
        "            elif search_type == '2':\n",
        "                keyword = input(\"Enter the keyword: \")\n",
        "                found_movies = search_movies_by_genre(movies_df, keyword)\n",
        "                print(found_movies.to_string(index=False))\n",
        "        elif choice == '4':\n",
        "            movie_id = int(input(\"Enter Movie ID to rate: \"))\n",
        "            rating = float(input(\"Enter your rating: \"))\n",
        "            rate_movie(movies_df, movie_id, rating)\n",
        "        elif choice == '5':\n",
        "            movie_id = int(input(\"Enter Movie ID to review: \"))\n",
        "            review = input(\"Enter your review: \")\n",
        "            add_movie_review(movies_df, movie_id, review)\n",
        "        elif choice == '6':\n",
        "            user_ratings = {101: 5.0, 103: 4.5, 150: 3.0}\n",
        "            recommendations = recommend_movies(movies_df, user_ratings)\n",
        "            print(recommendations.to_string(index=False))\n",
        "        elif choice == '7':\n",
        "            criterion = input(\"Top 10 by Genre (1), Release Year (2), or Rating (3): \")\n",
        "            if criterion == '1':\n",
        "                genre = input(\"Enter the Genre you want to filter by: \")\n",
        "                top_10 = top_10_movies(movies_df, by='Genre', specific_value=genre)\n",
        "            elif criterion == '2':\n",
        "                try:\n",
        "                    release_year = int(input(\"Enter the Release Year you want to filter by: \"))\n",
        "                    top_10 = top_10_movies(movies_df, by='Release Year', specific_value=release_year)\n",
        "                except ValueError:\n",
        "                    print(\"Invalid year input. Please enter a valid integer for the year.\")\n",
        "                    continue\n",
        "            elif criterion == '3':\n",
        "                top_10 = top_10_movies(movies_df, by='Rating')\n",
        "            else:\n",
        "                print(\"Invalid choice.\")\n",
        "                continue\n",
        "\n",
        "            print(top_10.to_string(index=False))\n",
        "        elif choice == '8':\n",
        "            plot_rating_distribution(movies_df)\n",
        "        elif choice == '9':\n",
        "            plot_movie_counts_per_genre(movies_df)\n",
        "        elif choice == '10':\n",
        "            all_reviews = movies_df['Reviews'].explode().dropna().tolist()\n",
        "\n",
        "            if not all_reviews:\n",
        "                print(\"No reviews available to analyze.\")\n",
        "            else:\n",
        "                sentiments = analyze_sentiment(all_reviews)\n",
        "                for review, sentiment in zip(all_reviews, sentiments):\n",
        "                    print(f\"Review: '{review}' -> Sentiment: {sentiment}\")\n",
        "        elif choice == '11':\n",
        "            criteria = input(\"Suggest by Genre (1) or Director (2): \")\n",
        "            if criteria == '1':\n",
        "                genre = input(\"Enter the genre: \")\n",
        "                suggestions = suggest_movies_by_genre_or_director(movies_df, genre=genre)\n",
        "            elif criteria == '2':\n",
        "                director = input(\"Enter the director's name: \")\n",
        "                suggestions = suggest_movies_by_genre_or_director(movies_df, director=director)\n",
        "            print(suggestions.to_string(index=False))\n",
        "        elif choice == '12':\n",
        "            print(\"Exiting the system. Goodbye!\")\n",
        "            break\n",
        "        else:\n",
        "            print(\"Invalid choice. Please try again.\")\n",
        "\n",
        "main_menu(movies_df)"
      ],
      "metadata": {
        "id": "r_WDTo8qBihp"
      },
      "execution_count": null,
      "outputs": []
    }
  ]
}